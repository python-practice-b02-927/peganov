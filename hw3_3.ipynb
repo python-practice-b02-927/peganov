{
 "cells": [
  {
   "cell_type": "markdown",
   "metadata": {
    "collapsed": true
   },
   "source": [
    "# <font color=blue>С/С++ vs Python</font>\n",
    "\n",
    "### Цели работы\n",
    "\n",
    "1. Получить представление о способах совместного использования Python и C/C++.\n",
    "2. Измерить эффективность использования вычислительных ресурсов программами, реализованными на C/C++, Python и с помощью методов, комбинирующих C/C++ и Python. \n",
    "\n",
    "### Методы\n",
    "\n",
    "1. C/C++\n",
    "\n",
    "2. Python\n",
    "\n",
    "3. Numpy -- библиотека Python для операций с массивами. \n",
    "\n",
    "4. Cython -- инструмент для компиляции программ на Python в исполняемые файлы. В код Python можно делать вставки кода на C.\n",
    "\n",
    "5. `ctypes` -- библиотека Python для подключения библиотек C/C++.\n",
    "\n",
    "6. JIT -- компиляция кода Python в машинный код в процессе выполнения программы.\n",
    "\n",
    "7. Python C/C++ extensions -- реализация модулей Python на C/C++.\n",
    "\n",
    "8. При желании можете попробовать и другие инструменты, например `boost`, CFFI.\n",
    "\n",
    "### Задачи.\n",
    "\n",
    "Примените перечисленные методы для решения задач:\n",
    "\n",
    "- умножение матриц,\n",
    "\n",
    "- сортировка пузырьком,\n",
    "\n",
    "- функция Аккермана.\n",
    "\n",
    "### Что должно получится\n",
    "7 программ (по одной на каждый из методов), в которых будет замеряться время, затраченное на вычисления для каждой из задач.\n",
    "\n",
    "\n",
    "## <font color=green>Измерение времени выполнения кода Python</font>\n",
    "\n",
    "Для измерения времени, затраченного на выполнение кода, рекомендуется модуль [`timeit`](https://docs.python.org/3/library/timeit.html). Для целей этой работы подойдет функция `timeit.timeit()`.\n",
    "\n",
    "Исследуемый участок кода передается через параметр `stmt` (statement) в виде строки. Функция `timeit.timeit()` возвращает **общее** время, которое было затрачено на `number` повторных выполнений кода `stmt`. Код `stmt` выполняется в изолированном окружении, и поэтому при вызове `timeit.timeit()` надо указать, какие переменные и функции будут доступны в коде `stmt`. Этой цели служат параметры `setup` и `globals`. \n",
    "\n",
    "Параметр `globals` -- словарь, с помощью которого инициализируется пространство имен для кода `stmt`. Ключи словаря `globals` -- это строки, которые служат именами переменных и функций в коде `stmt`. См. пример 1.\n",
    "\n",
    "Параметр `setup` -- строка с кодом, который выполняется функцией `timeit.timeit()` **1 раз** (до начала измерения времени). Переменные и функции определенные в коде `setup` доступны в коде `stmt`.\n",
    "\n",
    "### Пример 1. Функция  `timeit.timeit()`"
   ]
  },
  {
   "cell_type": "code",
   "execution_count": null,
   "metadata": {
    "collapsed": true
   },
   "outputs": [],
   "source": [
    "import timeit\n",
    "\n",
    "\n",
    "def list_mul(a, b):\n",
    "    \"\"\"Multiplies lists elementwise.\"\"\"\n",
    "    c = []\n",
    "    for i in range(len(a)):\n",
    "        c.append(a[i] * b[i])\n",
    "    return c\n",
    "\n",
    "\n",
    "setup = \"\"\"\n",
    "import random\n",
    "a = []\n",
    "b = []\n",
    "for i in range(1000):\n",
    "    a.append(random.randint(0, 10**6))\n",
    "    b.append(random.randint(0, 10**6))\n",
    "\"\"\"\n",
    "stmt = \"c = list_mul(a, b)\"\n",
    "n = 1000\n",
    "\n",
    "t = timeit.timeit(\n",
    "    # stmt расшивровывается, как statement\n",
    "    # Функция `timeit.timeit()` возвращает время,\n",
    "    # затраченное на `number` повторных\n",
    "    # выполнений кода из переменной `stmt`.\n",
    "    stmt=stmt,  \n",
    "    \n",
    "    # Код из `setup` выполняется 1 раз в начале работы функции `timeit.timeit()`.\n",
    "    # Параметр `setup` используется для инициализации переменных, необходимых `stmt`.\n",
    "    setup=setup, \n",
    "    \n",
    "    # `number` -- число повторных выполнений `stmt`.\n",
    "    number=n,\n",
    "    \n",
    "    # Объекты, не определенные в `setup`, можно передать через параметр `globals`\n",
    "    # Обратите внимание, что функция `list_mul()` не вызывается. Если функцию вызвать,\n",
    "    # то в `globals` попадет значение, возвращенное функцией, а не сама функция.\n",
    "    globals={\"list_mul\": list_mul}\n",
    ")\n",
    "\n",
    "print(\"Average time:\", t / n)"
   ]
  },
  {
   "cell_type": "markdown",
   "metadata": {},
   "source": [
    "## <font color=green>Умножение матриц</font>\n",
    "\n",
    "Напишите функцию для умножения вещественных матриц. При постарайтесь использовать матрицы большого размера, например $1000 \\times 1500$ и $1500 \\times 2000$.\n",
    "\n",
    "Тип `float` в Python -- соответствует типу `double` в  С.\n",
    "\n",
    "В библиотеке Numpy есть метод для умножения матриц `numpy.matmul()` с эффективной реализацией операции умножения. В `numpy.matmul()` используются функции из библиотеки BLAS (Basic Linear Algebra Subprograms), дающие колоссальный прирост производительности. В связи с этим:\n",
    "\n",
    "- для сравнения Numpy с чистым Python нужно написать наивное умножение матриц на Numpy;\n",
    "\n",
    "- для сравнения `numpy.matmul()` с C/C++, Cython, `ctypes`, C/C++ extensions в коде C/C++ надо использовать функцию `dgemm()` (**d**ouble precision **ge**neral **m**atrix **m**ultiply) из библиотеки BLAS. В зависимости от пакета, с которым поставлен BLAS, `dgemm()` может называться по-разному: `cblas_dgemm()`, `gsl_blas_dgemm()` и т.д..\n",
    "\n",
    "Случайная матрица в `numpy` создается с помощью "
   ]
  },
  {
   "cell_type": "code",
   "execution_count": null,
   "metadata": {
    "collapsed": true
   },
   "outputs": [],
   "source": [
    "import numpy as np\n",
    "\n",
    "a = np.random.rand(1000, 2000)"
   ]
  },
  {
   "cell_type": "markdown",
   "metadata": {},
   "source": [
    "В программе на чистом Python в качестве матриц используйте вложенные списки. Вложенные списки можно инициализировать так:"
   ]
  },
  {
   "cell_type": "code",
   "execution_count": null,
   "metadata": {
    "collapsed": true
   },
   "outputs": [],
   "source": [
    "import random\n",
    "\n",
    "a = []\n",
    "for _ in range(1000):\n",
    "    row = []\n",
    "    for _ in range(2000):\n",
    "        row.append(random.uniform())\n",
    "    a.append(row)"
   ]
  },
  {
   "cell_type": "markdown",
   "metadata": {},
   "source": [
    "### Мои результаты\n",
    "\n",
    "| &nbsp;| наивный алгоритм | наивный алгоритм с транспонированием | atlas blas | numpy openblas |\n",
    "| :---: | :---: | :---: | :---: | :---: |\n",
    "| C | 11.6 (10) | 4.25 (10) | 0.537 (100) | 0.145 (100) |\n",
    "| Python | 490 (1) | 394 (1) |  |  |\n",
    "| `numpy.matmul` |  |  |  | 0.153 (100) |\n",
    "| Numpy | 1854 (1) | 1951 (1) |  |  |\n",
    "| Cython | 7.18 (100) | 4.96 (100) |  | 0.131 (100) |\n",
    "| `ctypes` | 7.50 (10) | 4.78 (10) |  | 0.15(10) |\n",
    "| JIT nopython | 611 | 536 |  |  |\n"
   ]
  },
  {
   "cell_type": "markdown",
   "metadata": {},
   "source": [
    "## <font color=green>Библиотека Numpy</font>\n",
    "\n",
    "Библиотека `numpy` оперирует многомерными массивами `ndarray`. Массивы Numpy не являются разновидностью списков или кортежей. В отличие от элементов списка, у элементов массива должен быть одинаковый тип данных. В сравнении со списками массивы поддерживают больше способов обращения к своим элементам."
   ]
  },
  {
   "cell_type": "code",
   "execution_count": null,
   "metadata": {
    "collapsed": true
   },
   "outputs": [],
   "source": [
    "import numpy as np\n",
    "\n",
    "z = np.zeros([3, 4])\n",
    "print(z)\n",
    "print(z[1, 2])\n",
    "print(z[2])\n",
    "print(z[:, 1])\n",
    "print(z[:2, -2:])"
   ]
  },
  {
   "cell_type": "markdown",
   "metadata": {},
   "source": [
    "Библиотека Numpy устанавливается с помощью `pip`. В терминале обязательно должен быть доступен интерпретатор. Интерпретатор запускается одной из команд:\n",
    "```bash\n",
    "py  \n",
    "python\n",
    "python3\n",
    "```\n",
    "Обязательно убедитесь, что запустился интерпретатор нужной версии (нам подходят 3.5+).\n",
    "Далее для выбранного интерпретатора надо установить Numpy.\n",
    "```bash\n",
    "py -m pip install numpy\n",
    "```"
   ]
  }
 ],
 "metadata": {
  "kernelspec": {
   "display_name": "Python 3",
   "language": "python",
   "name": "python3"
  },
  "language_info": {
   "codemirror_mode": {
    "name": "ipython",
    "version": 3
   },
   "file_extension": ".py",
   "mimetype": "text/x-python",
   "name": "python",
   "nbconvert_exporter": "python",
   "pygments_lexer": "ipython3",
   "version": "3.6.3"
  }
 },
 "nbformat": 4,
 "nbformat_minor": 2
}
